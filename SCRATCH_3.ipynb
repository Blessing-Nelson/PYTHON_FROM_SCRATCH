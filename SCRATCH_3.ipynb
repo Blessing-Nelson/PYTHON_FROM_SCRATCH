{
 "cells": [
  {
   "cell_type": "markdown",
   "metadata": {},
   "source": [
    "FUNCTIONS"
   ]
  },
  {
   "cell_type": "code",
   "execution_count": 17,
   "metadata": {},
   "outputs": [
    {
     "data": {
      "text/plain": [
       "156"
      ]
     },
     "execution_count": 17,
     "metadata": {},
     "output_type": "execute_result"
    }
   ],
   "source": [
    "'''TASK 1 :\n",
    "Simple Calculator Function: Write a function that takes two numbers and an operator\n",
    "(addition, subtraction, multiplication, or division) as arguments and returns the result.'''\n",
    "\n",
    "def calculations(number_1, number_2, operator):\n",
    "    if operator == '+':\n",
    "        result_1 = number_1 + number_2\n",
    "    elif operator == '-':\n",
    "        result_1 = number_1 - number_2\n",
    "    elif operator == '*':\n",
    "        result_1 = number_1 * number_2\n",
    "    elif operator == '/':\n",
    "        result_1 = number_1 / number_2\n",
    "    else:\n",
    "        return \"Invalid operator\"\n",
    "    \n",
    "    return result_1\n",
    "\n",
    "calculations(12, 13, '*')\n"
   ]
  },
  {
   "cell_type": "code",
   "execution_count": 18,
   "metadata": {},
   "outputs": [
    {
     "name": "stdout",
     "output_type": "stream",
     "text": [
      "Inputed word: yur\n",
      "Not a palindrone\n"
     ]
    }
   ],
   "source": [
    "'''Task 2: Palindrome Check: Write a function that checks if a given string is a palindrome \n",
    "(reads the same backward and forward).'''\n",
    "\n",
    "user = (input('Enter a word: '))\n",
    "\n",
    "def palindrone(word):\n",
    "    print(f'Inputed word: {word}')\n",
    "    if word == word[::-1]:\n",
    "        print('Yes! word is a palindrome')\n",
    "    else:\n",
    "        print(\"Not a palindrone\")\n",
    "\n",
    "palindrone(user)"
   ]
  },
  {
   "cell_type": "code",
   "execution_count": 19,
   "metadata": {},
   "outputs": [
    {
     "name": "stdout",
     "output_type": "stream",
     "text": [
      "Inputed radius: 6.0\n"
     ]
    },
    {
     "data": {
      "text/plain": [
       "113.09733552923255"
      ]
     },
     "execution_count": 19,
     "metadata": {},
     "output_type": "execute_result"
    }
   ],
   "source": [
    "'''TASK 3 : Area of a Circle:\n",
    "Write a function circle_area(radius) that takes the radius of a circle as input and returns the area of the circle.\n",
    "Formula: Area = π * radius^2\n",
    "Use math.pi for the value of π.'''\n",
    "\n",
    "\n",
    "import math\n",
    "radius = float(input('Enter radius: '))\n",
    "def circle_area(radius):\n",
    "    print(f'Inputed radius: {radius}')\n",
    "    area = math.pi * radius ** 2\n",
    "    return area\n",
    "\n",
    "circle_area(radius)"
   ]
  },
  {
   "cell_type": "code",
   "execution_count": 20,
   "metadata": {},
   "outputs": [
    {
     "data": {
      "text/plain": [
       "53423"
      ]
     },
     "execution_count": 20,
     "metadata": {},
     "output_type": "execute_result"
    }
   ],
   "source": [
    "'''TASK 4: Find the Maximum Number in a List:\n",
    "Write a function find_max(numbers) that takes a list of numbers and returns the maximum number.'''\n",
    "\n",
    "numbers = [ 1, 2, 3, 35, 53423, 532, 44, 2, 1,]\n",
    "\n",
    "def find_max(number):\n",
    "    m = max(number)\n",
    "    return m\n",
    "\n",
    "find_max(numbers)"
   ]
  },
  {
   "cell_type": "code",
   "execution_count": 21,
   "metadata": {},
   "outputs": [
    {
     "name": "stdout",
     "output_type": "stream",
     "text": [
      "Checking if a number is an even number\n",
      "Inputed number: 87\n",
      "False. 87 Isn't an even number\n"
     ]
    }
   ],
   "source": [
    "'''TASK 5:Conditional Logic\n",
    "Write a function is_even(n) that returns True if a number is even and False otherwis '''\n",
    "\n",
    "number = int(input(\"Enter a number: \"))\n",
    "\n",
    "def is_even (n):\n",
    "    print(f'Checking if a number is an even number')\n",
    "    print(f'Inputed number: {n}')\n",
    "    if n % 2 == 0:\n",
    "        print(f'True. {n} is an even number.')\n",
    "    else:\n",
    "        print(f'False. {n} Isn\\'t an even number')\n",
    "\n",
    "\n",
    "is_even(number)"
   ]
  },
  {
   "cell_type": "code",
   "execution_count": 22,
   "metadata": {},
   "outputs": [
    {
     "name": "stdout",
     "output_type": "stream",
     "text": [
      "[1, 2, 3, 4, 5, 6, 7, 8, 9, 10, 11, 12, 13, 14, 15, 16, 17, 18, 19, 20]\n",
      "Calculates the average of numbers in a list.\n",
      "Average = 10.5\n"
     ]
    }
   ],
   "source": [
    "'''TASK 6: Working with Lists\n",
    "Create a function average(lst) that calculates the average of numbers in a list.'''\n",
    "\n",
    "list1 =list(range(1,21))\n",
    "print(list1)\n",
    "\n",
    "def average (lst):\n",
    "   print('Calculates the average of numbers in a list.') \n",
    "   average_of_list = sum(lst)/len(lst)\n",
    "   print(f'Average = {average_of_list}')\n",
    "\n",
    "\n",
    "\n",
    "average(list1)"
   ]
  },
  {
   "cell_type": "code",
   "execution_count": 23,
   "metadata": {},
   "outputs": [
    {
     "name": "stdout",
     "output_type": "stream",
     "text": [
      "Entered word: hiidtx\n",
      "{'a': 0, 'e': 0, 'i': 2, 'o': 0, 'u': 0}\n"
     ]
    }
   ],
   "source": [
    "'''TASK 7: String Operations\n",
    "Write a function count_vowels(s) that counts the number of vowels in a string.'''\n",
    "\n",
    "user = input(\"Input a word/sentence: \")\n",
    "vowels = ['a', 'e', 'i', 'o', 'u']\n",
    "\n",
    "def count_vowels (s):\n",
    "\n",
    "    print(f'Entered word: {user}')\n",
    "\n",
    "    vowel_count = {}\n",
    "    for v in vowels:\n",
    "        vowel_count[v] = 0\n",
    "        for char in s:\n",
    "            if char == v:\n",
    "                vowel_count[v] += 1\n",
    "    print(vowel_count)\n",
    "\n",
    "count_vowels(user)"
   ]
  },
  {
   "cell_type": "code",
   "execution_count": 24,
   "metadata": {},
   "outputs": [
    {
     "name": "stdout",
     "output_type": "stream",
     "text": [
      "24\n"
     ]
    }
   ],
   "source": [
    "'''TASK 8: Variable-Length Arguments\n",
    "Write a function multiply(*args) that takes any number of arguments and returns their product.'''\n",
    "\n",
    "def multiply(*args):\n",
    "    product = 1             # initialize the variable with 1 because any numbe rmultiplied by 1 returns that same number.\n",
    "    for num in args:\n",
    "        product *= num\n",
    "    return product\n",
    "\n",
    "result = multiply(2, 3, 4)\n",
    "print(result)\n"
   ]
  },
  {
   "cell_type": "code",
   "execution_count": 25,
   "metadata": {},
   "outputs": [
    {
     "data": {
      "text/plain": [
       "{'name': 'Blessing', 'age': 109, 'gender': 'Female'}"
      ]
     },
     "execution_count": 25,
     "metadata": {},
     "output_type": "execute_result"
    }
   ],
   "source": [
    "'''TASK 9: Variable-Length Arguments\n",
    "Create a function create_dict(**kwargs) that accepts any number of keyword arguments and returns a dictionary.\n",
    "'''\n",
    "\n",
    "def create_dict(**kwargs):\n",
    "    return kwargs\n",
    "\n",
    "create_dict(name ='Blessing', age = 109, gender = 'Female' )"
   ]
  },
  {
   "cell_type": "code",
   "execution_count": 26,
   "metadata": {},
   "outputs": [
    {
     "name": "stdout",
     "output_type": "stream",
     "text": [
      "15\n",
      "Error. Cannot divide by 0.\n"
     ]
    }
   ],
   "source": [
    "'''TASK 10: Nested Functions \n",
    "Write a function calculator(op) that returns another function based on the operation (\"add\", \"subtract\", \"multiply\", \"divide\").'''\n",
    "\n",
    "def calculator (op):\n",
    "\n",
    "    def addition (x, y):\n",
    "        return x + y\n",
    "    \n",
    "    def subtract( x, y):\n",
    "        return x - y\n",
    "    \n",
    "    def multiply(x, y):\n",
    "        return x * y\n",
    "    \n",
    "    def divide(x, y):\n",
    "        if y != 0:\n",
    "           return x/y\n",
    "        else:\n",
    "            return ('Error. Cannot divide by 0.')\n",
    "        \n",
    "    if op == \"addition\":\n",
    "        return addition\n",
    "    elif op == \"subtract\":\n",
    "        return subtract\n",
    "    elif op == \"multiply\":\n",
    "        return multiply\n",
    "    elif op == \"divide\":\n",
    "        return divide\n",
    "    else:\n",
    "        return \"Invalid operation\"   \n",
    "    \n",
    "\n",
    "result = calculator ('multiply')(3, 5)\n",
    "print(result)\n",
    "\n",
    "divide_function = calculator(\"divide\")\n",
    "result = divide_function(5, 0)  # Result will be \"Cannot divide by zero\"\n",
    "print(result)"
   ]
  },
  {
   "cell_type": "code",
   "execution_count": 27,
   "metadata": {},
   "outputs": [
    {
     "data": {
      "text/plain": [
       "[[1, 4], [2, 5], [3, 6]]"
      ]
     },
     "execution_count": 27,
     "metadata": {},
     "output_type": "execute_result"
    }
   ],
   "source": [
    "'''TASK 11: Working with Matrices\n",
    "\n",
    "Write a function transpose(matrix) that accepts a 2D matrix (list of lists) and returns its transpose.'''\n",
    "\n",
    "list_of_list = [[1, 2, 3], \n",
    "               [4, 5, 6]]\n",
    "\n",
    "def transpose(matrix):\n",
    "    transposed = []     #initialize a list that will contain the transposed matrix\n",
    "\n",
    "    for column in range(len(matrix[0])):\n",
    "        new_row = []       #initialize a list that will contain the new list\n",
    "        for row in matrix:\n",
    "            new_row.append(row[column])\n",
    "        \n",
    "        transposed.append(new_row)\n",
    "    return transposed\n",
    "\n",
    "\n",
    "transpose(list_of_list)"
   ]
  },
  {
   "cell_type": "markdown",
   "metadata": {},
   "source": [
    "UNDERSTANDING LAMDA FUNCTION"
   ]
  },
  {
   "cell_type": "code",
   "execution_count": 28,
   "metadata": {},
   "outputs": [
    {
     "name": "stdout",
     "output_type": "stream",
     "text": [
      "4\n"
     ]
    }
   ],
   "source": [
    "'''TASK 1: Square a Number: Create a lambda function to calculate the square of a number.'''\n",
    "\n",
    "square = (lambda number: number ** 2) (2)\n",
    "print(square)"
   ]
  },
  {
   "cell_type": "code",
   "execution_count": 29,
   "metadata": {},
   "outputs": [
    {
     "name": "stdout",
     "output_type": "stream",
     "text": [
      "Odd\n"
     ]
    }
   ],
   "source": [
    "'''TASK 2 : Even or Odd:\n",
    "Write a lambda function that checks if a number is even or odd.'''\n",
    "\n",
    "identify = (lambda number : \"Even\" if number % 2 == 0 else \"Odd\")(5)\n",
    "print(identify)"
   ]
  },
  {
   "cell_type": "code",
   "execution_count": 30,
   "metadata": {},
   "outputs": [
    {
     "name": "stdout",
     "output_type": "stream",
     "text": [
      "[(3, 1), (4, 2), (1, 3), (2, 5)]\n"
     ]
    }
   ],
   "source": [
    "'''TASK 3: Sort by Second Element:\n",
    "Given a list of tuples, each containing two elements,\n",
    "sort the list based on the second element using a lambda function.'''\n",
    "\n",
    "\n",
    "tuples_list = [(1, 3), (4, 2), (2, 5), (3, 1)]\n",
    "sorted_list = sorted(tuples_list, key=lambda x: x[1])\n",
    "print(sorted_list)"
   ]
  },
  {
   "cell_type": "code",
   "execution_count": 31,
   "metadata": {},
   "outputs": [
    {
     "name": "stdout",
     "output_type": "stream",
     "text": [
      "10\n"
     ]
    }
   ],
   "source": [
    "'''TASK 4: Product of Two Numbers: \n",
    "Create a lambda function that takes two arguments and returns their product.'''\n",
    "\n",
    "product = (lambda x, y : x * y)(2, 5)\n",
    "print(product)"
   ]
  },
  {
   "cell_type": "code",
   "execution_count": 32,
   "metadata": {},
   "outputs": [
    {
     "name": "stdout",
     "output_type": "stream",
     "text": [
      "76\n"
     ]
    }
   ],
   "source": [
    "'''TASK 5: Find Maximum of Three: Write a lambda function that finds the maximum of three numbers.'''\n",
    "\n",
    "numbers = [1, 2, 5, 76]\n",
    "max_number = (lambda x : max(x))(numbers)\n",
    "print (max_number)"
   ]
  },
  {
   "cell_type": "code",
   "execution_count": 33,
   "metadata": {},
   "outputs": [
    {
     "name": "stdout",
     "output_type": "stream",
     "text": [
      "Positive\n"
     ]
    }
   ],
   "source": [
    "'''TASK 6: Conditional Expression:\n",
    "Create a lambda function that returns \"Positive\", \"Negative\", or \"Zero\" based on the input number.'''\n",
    "\n",
    "user = float(input('Enter number of choce: '))\n",
    "checks = (lambda x : 'Positive' if x > 0 else( 'Negative' if x < 0 else 'zero'))(user)\n",
    "print(checks)\n"
   ]
  },
  {
   "cell_type": "code",
   "execution_count": 34,
   "metadata": {},
   "outputs": [
    {
     "name": "stdout",
     "output_type": "stream",
     "text": [
      "efecdxswdwd\n"
     ]
    }
   ],
   "source": [
    "'''TASK 7: Concatenate Strings\n",
    "\n",
    "Write a lambda function to concatenate two strings.'''\n",
    "\n",
    "string_1 = input('Enter a string:')\n",
    "string_2 = input('Enter a string again:')\n",
    "\n",
    "joined_sting = (lambda x, b: x + b) (string_1, string_2)\n",
    "\n",
    "print(joined_sting)"
   ]
  },
  {
   "cell_type": "code",
   "execution_count": 35,
   "metadata": {},
   "outputs": [
    {
     "name": "stdout",
     "output_type": "stream",
     "text": [
      "[2, 4, 0, 6, 0, 0]\n"
     ]
    }
   ],
   "source": [
    "'''TASK 8: Conditional List Transformation\n",
    "\n",
    "Use map() and a lambda function to replace all negative numbers in a list with 0.'''\n",
    "\n",
    "numbers = [2, 4, -4, 6, -8, -5]\n",
    "\n",
    "updated_numbers = list(map(lambda x: 0 if x < 0 else x, numbers))\n",
    "\n",
    "print(updated_numbers)"
   ]
  },
  {
   "cell_type": "code",
   "execution_count": 36,
   "metadata": {},
   "outputs": [
    {
     "name": "stdout",
     "output_type": "stream",
     "text": [
      "[1, 2, 4, 8, 16]\n"
     ]
    }
   ],
   "source": [
    "'''TASK 9: Generate a Range of Powers\n",
    "\n",
    "Write a lambda function that takes a number n and returns a list of the first n powers of 2.'''\n",
    "\n",
    "# Lambda function to generate a range of powers of 2\n",
    "powers = (lambda n: [2 ** i for i in range(n)])\n",
    "\n",
    "# Use the function to generate the first 5 powers of 2\n",
    "result = powers(5)\n",
    "\n",
    "\n",
    "print(result)\n"
   ]
  },
  {
   "cell_type": "markdown",
   "metadata": {},
   "source": [
    "UNDERSTANDING FILE HANDLING"
   ]
  },
  {
   "cell_type": "code",
   "execution_count": null,
   "metadata": {},
   "outputs": [
    {
     "name": "stdout",
     "output_type": "stream",
     "text": [
      "Enter strings in 5 lines.\n"
     ]
    }
   ],
   "source": [
    "'''TASK 1: Write to a File\n",
    "Create a script that writes user input to a file.\n",
    "Prompt the user to enter 5 lines of text, then write each line to a file named user_input.txt.'''\n",
    "\n",
    "file =  open(r'C:\\Users\\hp\\Desktop\\user_input.txt', 'w')\n",
    "print('Enter strings in 5 lines.')\n",
    "\n",
    "\n",
    "for i in range(1, 6):\n",
    "    line = input(f'Line {i}: ')\n",
    "    file.write(line + '\\n')\n",
    "file.close()\n"
   ]
  },
  {
   "cell_type": "code",
   "execution_count": null,
   "metadata": {},
   "outputs": [],
   "source": [
    "'''TASK 2: Read from a File\n",
    "Read the contents of a file called user_input.txt and print each line to the console'''\n",
    "\n",
    "file =  open(r'C:\\Users\\hp\\Desktop\\user_input.txt', 'r')\n",
    "\n",
    "contents = file.readlines()\n",
    "\n",
    "for content in contents:\n",
    "    print(content.strip())\n",
    "\n",
    "file.close()\n",
    "\n"
   ]
  },
  {
   "cell_type": "code",
   "execution_count": 16,
   "metadata": {},
   "outputs": [],
   "source": [
    "'''TASK 3: Append to a File\n",
    "Write a program that appends the current date and time to the previous user_input.txt file each time it's run.'''\n",
    "\n",
    "file =  open(r'C:\\Users\\hp\\Desktop\\user_input.txt', 'a')\n",
    "\n",
    "import datetime\n",
    "date = str(datetime.datetime.now())\n",
    "\n",
    "content = file.write(date + '\\n')\n",
    "\n",
    "file.close()"
   ]
  },
  {
   "cell_type": "code",
   "execution_count": null,
   "metadata": {},
   "outputs": [],
   "source": [
    "'''TASK 4: Check File Existence\n",
    "Write a script that checks whether a file exists before trying to read it. Use the os.path module for this task.'''\n",
    "\n",
    "file_path = r'C:\\Users\\hp\\Desktop\\user_input.txt'\n",
    "\n",
    "import os\n",
    "\n",
    "if os.path.exists(file_path):\n",
    "    with open(file_path,'r') as file:\n",
    "        contents = file.read()\n",
    "        print(contents)\n",
    "else:\n",
    "    print(f'Sorry file {file_path} doesnt exist.')"
   ]
  },
  {
   "cell_type": "code",
   "execution_count": null,
   "metadata": {},
   "outputs": [],
   "source": [
    "'''TASK 5: Count Words in a File\n",
    "Write a script to count the number of words in to the previous user_input.txt file. Display the total word count to the user.'''\n",
    "\n",
    "\n",
    "file =  open(r'C:\\Users\\hp\\Desktop\\user_input.txt', 'r')\n",
    "\n",
    "content = file.read()\n",
    "\n",
    "words = content.split()\n",
    "\n",
    "count_content = len(words)\n",
    "\n",
    "print(f\"The file 'user_input.txt' contains {count_content} words\")\n",
    "\n",
    "file.close()\n",
    "\n"
   ]
  },
  {
   "cell_type": "code",
   "execution_count": 5,
   "metadata": {},
   "outputs": [],
   "source": [
    "'''TASK 6: Copy a File\n",
    "Create a program that copies the contents of the previous user_input.txt file into a new file called destination.txt.'''\n",
    "\n",
    "with open(r'C:\\Users\\hp\\Desktop\\user_input.txt', 'r') as file:\n",
    "    content = file.read()\n",
    "\n",
    "with open(r'C:\\Users\\hp\\Desktop\\destination.txt', 'w') as file:\n",
    "    content = file.write(content)\n",
    "\n",
    "\n"
   ]
  },
  {
   "cell_type": "code",
   "execution_count": null,
   "metadata": {},
   "outputs": [],
   "source": [
    "'''TASK 7: Find and Replace\n",
    "Write a program that reads from a the previous user_input.txt file, replaces all occurrences of a word (e.g., Python)\n",
    "with another word (e.g., Coding), and saves the changes to a new file updated_text.txt.'''\n",
    "\n",
    "with open(r'C:\\Users\\hp\\Desktop\\user_input.txt', 'r+') as file:\n",
    "    content = file.read()\n",
    "    words = content.split()\n",
    "\n",
    "# Split, modify, and re-join the words\n",
    "    for i in range(len(words)):\n",
    "        if words[i] == 'I\\'m':\n",
    "            words[i] = 'She\\'s'\n",
    "            updated_content = ' '.join(words)       # Combine the updated words into a string        \n",
    "    \n",
    "# Save the updated content to a new file\n",
    "with open(r'C:\\Users\\hp\\Desktop\\updated_textt.txt', 'w') as file:\n",
    "    content = file.write(updated_content)\n",
    "\n",
    "\n",
    "\n"
   ]
  },
  {
   "cell_type": "markdown",
   "metadata": {},
   "source": [
    "UNDERSTANDING MODULES"
   ]
  },
  {
   "cell_type": "code",
   "execution_count": null,
   "metadata": {},
   "outputs": [],
   "source": [
    "'''Task 1: Basic Module Import\n",
    "Create a Python file named math_operations.py with the following functions:\n",
    "\n",
    "add(a, b) to return the sum of two numbers.\n",
    "subtract(a, b) to return the difference.\n",
    "multiply(a, b) to return the product.\n",
    "divide(a, b) to return the quotient.\n",
    "Create another file called SCRATCH_3.py and import math_operations. Call each function with different arguments and print the results.'''\n",
    "\n",
    "\n",
    "import math_operations\n",
    "\n",
    "a = float(input(\"Enter the first number: \"))\n",
    "b = float(input(\"Enter the second number: \"))\n",
    "\n",
    "# Call functions and print results\n",
    "print(f\"Sum: {math_operations.add(a, b)}\")\n",
    "print(f\"Difference: {math_operations.subtract(a, b)}\")\n",
    "print(f\"Product: {math_operations.multiply(a, b)}\")\n",
    "print(f\"Quotient: {math_operations.divide(a, b)}\")"
   ]
  },
  {
   "cell_type": "code",
   "execution_count": null,
   "metadata": {},
   "outputs": [],
   "source": [
    "'''TASK 2: System and OS Interaction\n",
    "Create a script that:\n",
    "Lists all files in your current directory.\n",
    "Creates a new directory named NewDirectory.\n",
    "Moves a file of your choice into NewDirectory.\n",
    "Modules to use: os, shutil.\n",
    "\n",
    "'''\n",
    "\n",
    "import os\n",
    "import shutil\n",
    "\n",
    "cwd = os.getcwd()           #getting current working directory\n",
    "print(f'Current working directory: {cwd}')\n",
    "\n",
    "\n",
    "files_in_cwd = os.listdir(cwd)      #getting files in current working directory\n",
    "print(f'Files in curren working directory: {files_in_cwd}')\n",
    "\n",
    "#creating new directory\n",
    "new_directory = r'c:\\Users\\hp\\Desktop\\NewDirectory'\n",
    "os.mkdir(new_directory)\n",
    "print(f'New directory: {new_directory}')\n",
    "\n",
    "#copying file to new directory\n",
    "source_file = r'c:\\Users\\hp\\Desktop\\PYTHON\\GAMES.py'\n",
    "destination_path = new_directory\n",
    "copied_file = shutil.copy(source_file,destination_path)\n",
    "print(f'Copied file from {source_file} to {destination_path}')"
   ]
  },
  {
   "cell_type": "code",
   "execution_count": null,
   "metadata": {},
   "outputs": [],
   "source": [
    "'''TASK 3: Data Structures\n",
    "Using collections.Counter, count the frequency of each word in the following sentence:\n",
    "\"Learning Python modules is fun and makes you productive.\"\n",
    "\n",
    "Module to use: collections.\n",
    "\n",
    "'''\n",
    "sentence = \"Learning Python modules is fun and makes you productive.\"\n",
    "import collections\n",
    "\n",
    "print(collections.Counter(sentence))\n"
   ]
  },
  {
   "cell_type": "code",
   "execution_count": null,
   "metadata": {},
   "outputs": [],
   "source": [
    "'''TASK 4: Math and Random\n",
    "Task:\n",
    "Write a script to simulate rolling two dice 100 times. Count the occurrences of each possible sum and print the results.\n",
    "Modules to use: random, collections.'''\n",
    "\n",
    "import random\n",
    "import collections\n",
    "\n",
    "sum_count = collections.Counter()\n",
    "\n",
    "for i in range(100):\n",
    "    dice1 = random.randint(1, 6)\n",
    "    dice2 = random.randint(1, 6)\n",
    "    dice_sum = dice1 + dice2\n",
    "    sum_count[dice_sum] +=1\n",
    "\n",
    "\n",
    "for sum_value, count in sum_count.items():\n",
    "    print(f\"Sum {sum_value}: {count} occurrences\")\n"
   ]
  },
  {
   "cell_type": "code",
   "execution_count": null,
   "metadata": {},
   "outputs": [],
   "source": [
    "'''TASK 5: Dates and Times\n",
    "Task:\n",
    "Calculate the number of days left until your next birthday.\n",
    "Module to use: datetime.'''\n",
    "\n",
    "import datetime\n",
    "\n",
    "current_date_and_time = datetime.datetime.now()     #etracting the current date and time\n",
    "current_date = current_date_and_time.date()         #extracting the just date from datetime\n",
    "\n",
    "birthday = datetime.date(2025, 8, 5)                #inputing birthday date\n",
    "\n",
    "duration = birthday - current_date                  #finding the difference between dates\n",
    "\n",
    "\n",
    "print(f\"Days left until your next birthday: {duration.days}\")"
   ]
  },
  {
   "cell_type": "markdown",
   "metadata": {},
   "source": [
    "UNDERSTANDING CLASSES"
   ]
  },
  {
   "cell_type": "code",
   "execution_count": 1,
   "metadata": {},
   "outputs": [],
   "source": [
    "'''TASK 1: Create a Simple Class\n",
    "Create a class called Student with the following attributes:\n",
    "\n",
    "name: Name of the student (string)\n",
    "age: Age of the student (integer)\n",
    "major: Major of the student (string)'''\n",
    "\n",
    "\n",
    "class Student:\n",
    "    def __init__(self, name, age, major):\n",
    "        self.name = name\n",
    "        self.age = age\n",
    "        self.major = major"
   ]
  },
  {
   "cell_type": "code",
   "execution_count": 2,
   "metadata": {},
   "outputs": [],
   "source": [
    "'''TASK 2: Create Instances of the Class\n",
    "Create two instances (objects) of the Student class and assign them to variables:'''\n",
    "\n",
    "student_1 = Student('James', 23, 'Maths' )\n",
    "student_2 = Student('Edikan', 25, 'Design')"
   ]
  },
  {
   "cell_type": "code",
   "execution_count": null,
   "metadata": {},
   "outputs": [],
   "source": [
    "'''TASK 3: Access and Print Attributes\n",
    "Write code to access and print the attributes (name, age, major) of each student:'''\n",
    "\n",
    "print(f'Student\\'s name is {student_1.name}, age is {student_1.age}, major is {student_1.major}')\n",
    "print(f'Student\\'s name is {student_2.name}, age is {student_2.age}, major is {student_2.major}')"
   ]
  },
  {
   "cell_type": "code",
   "execution_count": 5,
   "metadata": {},
   "outputs": [],
   "source": [
    "'''TASK 4: Add a Method to the Class\n",
    "Add a method study(self) to the Student class that prints a message about studying:'''\n",
    "class Student:\n",
    "    def __init__(self, name, age, major):\n",
    "        self.name = name\n",
    "        self. age = age\n",
    "        self.major = major\n",
    "\n",
    "    def study(self):\n",
    "        print(f'{self.name} is studying CAD for his major in {self.major}') "
   ]
  },
  {
   "cell_type": "code",
   "execution_count": null,
   "metadata": {},
   "outputs": [],
   "source": [
    "'''TASK 5: Use the Method\n",
    "Invoke the study() method on one of the student instances:'''\n",
    "\n",
    "student_3 = Student('Elvis', 25, 'Structure design')\n",
    "student_3.study()\n"
   ]
  },
  {
   "cell_type": "code",
   "execution_count": 7,
   "metadata": {},
   "outputs": [],
   "source": [
    "'''TASK 6: Modify an Attribute\n",
    "Add a method change_major(self, new_major) to the Student class that updates the major attribute:'''\n",
    "\n",
    "\n",
    "class Student:\n",
    "    def __init__(self, name, age, major):\n",
    "        self.name = name\n",
    "        self. age = age\n",
    "        self.major = major\n",
    "\n",
    "    def study(self):\n",
    "        print(f'{self.name} is studying CAD for his major in {self.major}') \n",
    "\n",
    "    def change_major(self, new_major):\n",
    "        self.major = new_major\n"
   ]
  },
  {
   "cell_type": "code",
   "execution_count": null,
   "metadata": {},
   "outputs": [],
   "source": [
    "'''TASK 7: Test Attribute Modification\n",
    "Create an instance and test the change_major() method:'''\n",
    "\n",
    "student_4 = Student('Edna', 30, 'chemistry')\n",
    "\n",
    "print(f\"{student_4.name}'s previous major was {student_4.major}\")\n",
    "\n",
    "student_4.change_major('Biology')\n",
    "print(f\"{student_4.name}'s current major is {student_4.major}\")"
   ]
  },
  {
   "cell_type": "code",
   "execution_count": null,
   "metadata": {},
   "outputs": [],
   "source": [
    "'''TASK 8: Multiple Classes and Instances\n",
    "Create another class Book with attributes title and author. Then, create instances of both Student and Book classes:'''\n",
    "\n",
    "class Book:\n",
    "\n",
    "    def __init__(self, title, author):\n",
    "        self.title = title\n",
    "        self. author = author\n",
    "\n",
    "\n",
    "\n",
    "book_1 = Book(\"Heaven's gate\", 'Marry Ann')\n",
    "student5 = Student(\"Ella\", 31, \"Physics\")\n",
    "\n",
    "# Print information about the student and the book\n",
    "print(f\"{student5.name} is majoring in {student5.major}.\")\n",
    "print(f\"The book '{book_1.title}' is written by {book_1.author}.\")"
   ]
  },
  {
   "cell_type": "code",
   "execution_count": null,
   "metadata": {},
   "outputs": [],
   "source": [
    "'''TASK 9: Track the Number of Instances\n",
    "Create a class Book that tracks the total number of books created. Use a class variable to keep track of this count.'''\n",
    "\n",
    "class Book :\n",
    "    total_books = 0\n",
    "\n",
    "    def __init__(self, title):\n",
    "        self.title = title\n",
    "        Book.total_books += 1\n",
    "    \n",
    "\n",
    "#creating instances\n",
    "book1 = Book('Intro to python')\n",
    "book2 = Book('Intro to bioinfomatics')\n",
    "book3 = Book('Excel for dummies')\n",
    "\n",
    "print(Book.total_books)"
   ]
  },
  {
   "cell_type": "code",
   "execution_count": null,
   "metadata": {},
   "outputs": [],
   "source": [
    "'''TASK 10: Shared Configuration\n",
    "Create a class Database that represents a database connection.\n",
    "The class should have a class variable connection_string that stores the database connection URL.\n",
    "Allow instances to access this shared connection string.'''\n",
    "\n",
    "\n",
    "\n",
    "class Database:\n",
    "    connection_string = 'hhp//u.com'        #Class variable\n",
    "\n",
    "    def __init__(self, url):\n",
    "        self.url = url\n",
    "\n",
    "\n",
    "url1 = Database('happy.com')\n",
    "url2 = Database('sad.com')\n",
    "\n",
    "print(url1.connection_string)\n",
    "print(url2.connection_string)\n",
    "\n"
   ]
  },
  {
   "cell_type": "code",
   "execution_count": null,
   "metadata": {},
   "outputs": [],
   "source": [
    "'''TASK 11: Car Dealership\n",
    "Create a class Car that tracks how many cars have been sold in a dealership.\n",
    "The dealership sells different types of cars, but the total number of cars sold is shared across all types.'''\n",
    "\n",
    "class Car:\n",
    "    total_sold = 0\n",
    "\n",
    "    def __init__(self, brand, model, price):\n",
    "        self.brand = brand\n",
    "        self.model = model\n",
    "        self.price = price\n",
    "        Car.total_sold += 1         #it increases after an instance is created\n",
    "\n",
    "car1 = Car('Toyota', 'Corolla', 1000)\n",
    "car2 = Car('Honda', 'Element', 5000)\n",
    "\n",
    "\n",
    "print(Car.total_sold)\n"
   ]
  },
  {
   "cell_type": "code",
   "execution_count": null,
   "metadata": {},
   "outputs": [],
   "source": [
    "'''TASK 12: Library System\n",
    "Create a class Library that tracks the total number of books in the library and allows adding books to the library’s collection.'''\n",
    "\n",
    "class Library:\n",
    "    total_books = 0         # this is a class variable to track totl books in the library\n",
    "    \n",
    "    def __init__(self):\n",
    "        self.books = []\n",
    "    \n",
    "    def add_book(self, book):\n",
    "        self.books.append(book)         #adds a instance to the list called book\n",
    "        Library.total_books += 1        #when a book is added to the list, the total number of book increases by 1.\n",
    "    \n",
    "\n",
    "library1 = Library()\n",
    "library2 = Library()\n",
    "\n",
    "library1.add_book(\"Python 101\")\n",
    "library2.add_book(\"Machine Learning\")\n",
    "library2.add_book(\"Bio 101\")\n",
    "\n",
    "\n",
    "print(f'Books in Library1: {library2.books}')\n",
    "print(f'Books in Library2: {library1.books}')\n",
    "\n",
    "print(f'Total number of books in all libaries: {Library.total_books}')"
   ]
  },
  {
   "cell_type": "code",
   "execution_count": null,
   "metadata": {},
   "outputs": [],
   "source": [
    "'''TASK 13: Simple Counter\n",
    "Create a class Counter that tracks how many instances of the class have been created using a class variable.'''\n",
    "\n",
    "class Counter:\n",
    "    no_of_instances = 0\n",
    "\n",
    "    def __init__(self, item):\n",
    "        self.item = item\n",
    "        Counter.no_of_instances += 1\n",
    "\n",
    "item1 = Counter('paint')\n",
    "item2 = Counter('chalk')\n",
    "item3 = Counter('food')\n",
    "\n",
    "print(Counter.no_of_instances)"
   ]
  },
  {
   "cell_type": "code",
   "execution_count": null,
   "metadata": {},
   "outputs": [],
   "source": [
    "'''TASK 14: Store Inventory\n",
    "Create a class Product with the following attributes:\n",
    "\n",
    "A class variable total_products to keep track of the total number of products created.\n",
    "Each instance of the class should have name, price, and quantity attributes.\n",
    "Include a method to display the total number of products created.\n",
    "'''\n",
    "\n",
    "\n",
    "class Product:\n",
    "    total_products = 0\n",
    "\n",
    "    def __init__(self, name, price, quantity):\n",
    "        self.name = name\n",
    "        self.price = price\n",
    "        self.quantity = quantity\n",
    "        Product.total_products += 1\n",
    "\n",
    "    \n",
    "    def products_created():\n",
    "        return Product.total_products\n",
    "    \n",
    "\n",
    "product1 = Product('Detergent', 200, 'Good')\n",
    "product2 = Product('Bread', 500, 'Poor')\n",
    "product3 = Product('Shoes', 934, 'Average')\n",
    "product4 = Product('Glasses', 400, 'Poor')\n",
    "\n",
    "Product.products_created()\n",
    "\n"
   ]
  },
  {
   "cell_type": "code",
   "execution_count": null,
   "metadata": {},
   "outputs": [],
   "source": [
    "'''TASK 15: Class with Multiple Methods\n",
    "Write a class BankAccount with the following features:\n",
    "\n",
    "Attributes: account_holder (name) and balance (default is 0).\n",
    "A method deposit(amount) that adds money to the balance and prints the updated balance.\n",
    "A method withdraw(amount) that subtracts money from the balance if there are enough funds; otherwise, it prints: \"Insufficient funds.\"\n",
    "A method get_balance() that prints: \"The balance is [balance]\".\n",
    "'''\n",
    "\n",
    "\n",
    "\n",
    "class BankAccount():\n",
    "    def __init__(self, account_holder):\n",
    "        self.account_holder = account_holder\n",
    "        self.balance = 0\n",
    "\n",
    "    def deposit(self, amount):\n",
    "        print(f'Deposited Amount: {amount}')\n",
    "\n",
    "        self.balance += amount\n",
    "        print(f'{self.account_holder} has updated balance: {self.balance} ')\n",
    "\n",
    "    def withdraw(self, amount):\n",
    "        print(f'Withdrawal Amount: {amount}')\n",
    "\n",
    "        if self.balance > amount:\n",
    "            self.balance -= amount\n",
    "            print(f'Updated amount: {self.balance} ')\n",
    "        else:\n",
    "            print(\"Insufficient funds.\")\n",
    "    \n",
    "    def get_balance(self):\n",
    "        print(f'The balance is {self.balance}')\n",
    "\n",
    "\n",
    "account1 = BankAccount('Blessing')\n",
    "\n",
    "account1.deposit(2900)\n",
    "        \n",
    "account1.withdraw(600)\n",
    "account1.get_balance()"
   ]
  },
  {
   "cell_type": "code",
   "execution_count": null,
   "metadata": {},
   "outputs": [],
   "source": [
    "'''TASK 16: Student Grades\n",
    "Create a class Student where:\n",
    "\n",
    "A class variable average_grade stores the average grade of all students.\n",
    "Each instance has attributes name and grade.\n",
    "Update the class variable whenever a new student is added.'''\n",
    "\n",
    "import statistics\n",
    "class Student:\n",
    "    student_grades = []                 #stores all students grades in a list \n",
    "    average_grade = 0                   #stores the average reade of alll students\n",
    "\n",
    "    def __init__(self, name, grade):\n",
    "        self.name = name\n",
    "        self.grade = grade\n",
    "        Student.student_grades.append(grade)        # Add the grade to the list of student_grades\n",
    "        Student.average_grade = statistics.mean(Student.student_grades)\n",
    "        print(f'Student average: {Student.average_grade}')\n",
    "\n",
    "\n",
    "student1 = Student('Angel', 50)\n",
    "student2 = Student('Victor', 100)\n",
    "student3 = Student('Blessing', 100)\n",
    "\n",
    "print(Student.average_grade)"
   ]
  }
 ],
 "metadata": {
  "kernelspec": {
   "display_name": "Python 3",
   "language": "python",
   "name": "python3"
  },
  "language_info": {
   "codemirror_mode": {
    "name": "ipython",
    "version": 3
   },
   "file_extension": ".py",
   "mimetype": "text/x-python",
   "name": "python",
   "nbconvert_exporter": "python",
   "pygments_lexer": "ipython3",
   "version": "3.12.6"
  }
 },
 "nbformat": 4,
 "nbformat_minor": 2
}
