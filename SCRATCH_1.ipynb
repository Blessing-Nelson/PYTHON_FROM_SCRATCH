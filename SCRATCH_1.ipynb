{
 "cells": [
  {
   "cell_type": "markdown",
   "metadata": {},
   "source": [
    "UNDERSTANDING VARIABLES"
   ]
  },
  {
   "cell_type": "code",
   "execution_count": null,
   "metadata": {},
   "outputs": [],
   "source": [
    "'''Task 1: Simple Arithmetic Operations\n",
    "Objective: Create variables a and b, assign them any two numbers, \n",
    "and perform the following operations: addition, subtraction, multiplication, division, squares, and modulus.'''\n",
    "\n",
    "a = 1\n",
    "b = 2\n",
    "\n",
    "print(a + b)\n",
    "print(a - b)\n",
    "print(a / b)\n",
    "print(a // b)\n",
    "print(a % b)\n",
    "print(a ** b)"
   ]
  },
  {
   "cell_type": "code",
   "execution_count": null,
   "metadata": {},
   "outputs": [],
   "source": [
    "'''Task 2: String Manipulation\n",
    "Objective: Create two string variables, first_name and last_name, and assign them your first and last name.\n",
    "Then, create a new variable full_name by combining these two strings with a space in between. Print full_name.'''\n",
    "first_name = 'Blessing'\n",
    "last_name ='Nelson'\n",
    "\n",
    "full_name = first_name + ' ' + last_name\n",
    "\n",
    "print(full_name)"
   ]
  },
  {
   "cell_type": "code",
   "execution_count": null,
   "metadata": {},
   "outputs": [],
   "source": [
    "'''Task 3: Swapping Values\n",
    "Objective: Create two variables x and y and assign them any two numbers.\n",
    "Swap their values without using a third variable and print the values of x and y after the swap.'''\n",
    "\n",
    "x = 1\n",
    "y = 2\n",
    "\n",
    "x, y = y, x\n",
    "\n",
    "print(x)\n",
    "\n",
    "print(y)"
   ]
  },
  {
   "cell_type": "code",
   "execution_count": null,
   "metadata": {},
   "outputs": [],
   "source": [
    "'''Task 4: Calculate Area of a Circle\n",
    "Objective: Create a variable radius and assign it a number.\n",
    "Then, calculate the area of a circle using the formula area = π * radius^2. You can use 3.14 as the value of π. Print the area.'''\n",
    "\n",
    "radius = 2\n",
    "pi = 3.14\n",
    "\n",
    "area= pi * radius ** 2\n",
    "print(area)"
   ]
  },
  {
   "cell_type": "code",
   "execution_count": null,
   "metadata": {},
   "outputs": [],
   "source": [
    "'''Task 5: Temperature Conversion\n",
    "Objective: Create a variable celsius and assign it a temperature value in Celsius.\n",
    "Write a formula to convert this temperature to Fahrenheit and store it in a variable fahrenheit.\n",
    "Print both the Celsius and Fahrenheit values.'''\n",
    "\n",
    "\n",
    "celsius =  22\n",
    "convert_C_to_F = celsius * 9/5 + 32\n",
    "print(convert_C_to_F)"
   ]
  },
  {
   "cell_type": "markdown",
   "metadata": {},
   "source": [
    "UNDERSTANDING STRINGS"
   ]
  },
  {
   "cell_type": "code",
   "execution_count": null,
   "metadata": {},
   "outputs": [],
   "source": [
    "'''Task 1: String Concatenation\n",
    "Objective: Create two strings, first_name and last_name, and concatenate them with a space in between to create a full name.\n",
    "Print the full name.'''\n",
    "\n",
    "first_name ='Blessing'\n",
    "last_name = 'Nelson'\n",
    "\n",
    "full_name  = first_name + ' ' + last_name\n",
    "print(full_name)"
   ]
  },
  {
   "cell_type": "code",
   "execution_count": null,
   "metadata": {},
   "outputs": [],
   "source": [
    "'''Task 2: String Slicing\n",
    "Objective: Given a string sentence = \"Learning Python is fun!\", print:\n",
    "The first word.\n",
    "The last word.\n",
    "The string in reverse.'''\n",
    "\n",
    "\n",
    "sentence = \"Learning Python is fun!\"\n",
    "\n",
    "first_word = sentence[0:8]\n",
    "print(first_word)\n",
    "\n",
    "last_word = sentence[-4:]\n",
    "print(last_word)\n",
    "\n",
    "reverse_sentence = sentence[::-1]\n",
    "print(reverse_sentence)"
   ]
  },
  {
   "cell_type": "code",
   "execution_count": null,
   "metadata": {},
   "outputs": [],
   "source": [
    "'''Task 3: String Formatting\n",
    "Objective: Create variables name, age, and city, and use an f-string to print a sentence like\n",
    " \"My name is [name], I am [age] years old, and I live in [city].\"'''\n",
    "\n",
    "name = 'Blessing'\n",
    "age = 23\n",
    "city ='Ph'\n",
    "\n",
    "print(f'My name is {name}, I am {age} old, and I live in {city}.')"
   ]
  },
  {
   "cell_type": "code",
   "execution_count": null,
   "metadata": {},
   "outputs": [],
   "source": [
    "'''Task 4: Count Vowels\n",
    "Objective: Write a program that counts the number of vowels (a, e, i, o, u) in a given string. Print the count.'''\n",
    "\n",
    "vowels = ('a', 'e', 'i', 'o', 'u')\n",
    "sentence = \"Learning Python is fun!\"\n",
    "count = 0\n",
    "\n",
    "for i in sentence:\n",
    "    for j in vowels:\n",
    "        if i == j:\n",
    "            count += 1\n",
    "print(count)"
   ]
  },
  {
   "cell_type": "code",
   "execution_count": null,
   "metadata": {},
   "outputs": [],
   "source": [
    "'''Task 5: Palindrome Checker\n",
    "Objective: Write a program that checks whether a given string is a palindrome (a word that reads the same forward and backward).\n",
    "Print True if it is a palindrome, and False if it isn't.'''\n",
    "\n",
    "\n",
    "word = 'level'\n",
    "\n",
    "if word == word[::-1]:\n",
    "    print('True.It\\'s a palindrome!!')\n",
    "else :\n",
    "    print('Its isn\\'t a palindrome')\n"
   ]
  },
  {
   "cell_type": "markdown",
   "metadata": {},
   "source": [
    "UNDERSTANDING OPERATORS"
   ]
  },
  {
   "cell_type": "code",
   "execution_count": null,
   "metadata": {},
   "outputs": [],
   "source": [
    "'''Task 1: Basic Arithmetic Operations\n",
    "Write a Python program that takes two numbers as input from the user and performs the following arithmetic operations:\n",
    "Addition\n",
    "Subtraction\n",
    "Multiplication\n",
    "Division\n",
    "Modulus (remainder of division)\n",
    "Exponentiation (power)'''\n",
    "\n",
    "number1 = float(input(\"Enter first number : \"))\n",
    "number2 = float(input(\"Enter second number : \"))\n",
    "\n",
    "add = number1 + number2\n",
    "print(add)\n",
    "\n",
    "sub = number1 - number2\n",
    "print(sub)\n",
    "\n",
    "mul = number1 * number2\n",
    "print(mul)\n",
    "\n",
    "div = number1 / number2\n",
    "print(div)\n",
    "\n",
    "mod = number1 % number2\n",
    "print(mod)\n",
    "\n",
    "ex = number1 ** number2\n",
    "print(ex)"
   ]
  },
  {
   "cell_type": "code",
   "execution_count": null,
   "metadata": {},
   "outputs": [],
   "source": [
    "'''Task 2: Comparison Operators\n",
    "Create a Python program that compares two numbers using comparison operators. The program should:\n",
    "Check if the first number is equal to, not equal to, greater than, or less than the second number.\n",
    "Print appropriate messages based on the results.'''\n",
    "\n",
    "x = 4\n",
    "y = 13\n",
    "\n",
    "if x == y :\n",
    "    print(True)\n",
    "else:\n",
    "    print(False)\n",
    "\n",
    "if x != y :\n",
    "    print(True)\n",
    "else:\n",
    "    print(False)\n",
    "\n",
    "if x > y :\n",
    "    print(True)\n",
    "else:\n",
    "    print(False)\n",
    "\n",
    "if x < y :\n",
    "    print(True)\n",
    "else:\n",
    "    print(False)"
   ]
  },
  {
   "cell_type": "code",
   "execution_count": null,
   "metadata": {},
   "outputs": [],
   "source": [
    "'''Task 3: Logical Operators\n",
    "Write a Python program that checks if a number is within a certain range using logical operators. The program should:\n",
    "Ask the user for a number.\n",
    "Check if the number is between 10 and 20 (inclusive).\n",
    "Use logical operators to determine if the number is within the range and print a message accordingly.'''\n",
    "\n",
    "user = float(input('Input a number: '))\n",
    "if 10 <= user <= 20:\n",
    "  print(f'correct! {user} is within range.')\n",
    "else:\n",
    "    print(f'{user} is not in range.')"
   ]
  },
  {
   "cell_type": "code",
   "execution_count": null,
   "metadata": {},
   "outputs": [],
   "source": [
    "'''Task 4: Assignment Operators\n",
    "Create a Python program that demonstrates the use of assignment operators. Perform the following tasks:\n",
    "\n",
    "Initialize a variable with a value.\n",
    "Use various assignment operators (+=, -=, *=, /=, etc.) to modify the variable.\n",
    "Print the variable after each modification to show the changes.'''\n",
    "\n",
    "\n",
    "x = 23\n",
    "x += 2\n",
    "print(x)\n",
    "\n",
    "x -= 2\n",
    "print(x)\n",
    "\n",
    "x *= 4\n",
    "print(x)\n",
    "\n",
    "x /= 23\n",
    "print(x)\n"
   ]
  }
 ],
 "metadata": {
  "kernelspec": {
   "display_name": "Python 3",
   "language": "python",
   "name": "python3"
  },
  "language_info": {
   "codemirror_mode": {
    "name": "ipython",
    "version": 3
   },
   "file_extension": ".py",
   "mimetype": "text/x-python",
   "name": "python",
   "nbconvert_exporter": "python",
   "pygments_lexer": "ipython3",
   "version": "3.12.6"
  }
 },
 "nbformat": 4,
 "nbformat_minor": 2
}
